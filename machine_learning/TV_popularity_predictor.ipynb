{
 "cells": [
  {
   "cell_type": "markdown",
   "metadata": {},
   "source": [
    "# TV shows Popularity Predictor (39%)\n",
    "\n",
    "\n",
    "The goal of this challenge is to create a model that predicts the `popularity` of a movie or TV show\n",
    "\n",
    "<img src=\"image.jpg\" width=300 />\n",
    "\n",
    "\n",
    "\n",
    "\n",
    "The dataset contains a list of movies and TV shows with the following characteristics:\n",
    "- `title`: title of the movie in english\n",
    "- `original_title`: original title of the movie \n",
    "- `duration_min`: duration of the movie in minutes\n",
    "- `popularity`: popularity of the movie in terms of review scores\n",
    "- `release_date`: release date\n",
    "- `description`: short summary of the movie\n",
    "- `budget`: budget spent to produce the movie in USD\n",
    "- `revenue`: movie revenue in USD \n",
    "- `original_language`: original language \n",
    "- `status`: is the movie already released or not\n",
    "- `number_of_awards_won`: number of awards won for the movie\n",
    "- `number_of_nominations`: number of nominations\n",
    "- `has_collection`: if the movie is part of a sequel or not\n",
    "- `all_genres`: genres that described the movie (can be zero, one or many!) \n",
    "- `top_countries`: countries where the movie was produced (can be zero, one or many!) \n",
    "- `number_of_top_productions`: number of top production companies that produced the film if any. \n",
    "Top production companies includes: Warner Bros, Universal Pictures, Paramount Pictures, Canal+, etc...\n",
    "- `available_in_english`: whether the movie is available in english or not"
   ]
  },
  {
   "cell_type": "markdown",
   "metadata": {},
   "source": [
    "## Imports\n",
    "\n",
    "Run the following cell to load the basic packages:"
   ]
  },
  {
   "cell_type": "code",
   "execution_count": 23,
   "metadata": {
    "ExecuteTime": {
     "end_time": "2021-06-29T17:29:05.325249Z",
     "start_time": "2021-06-29T17:29:04.415422Z"
    }
   },
   "outputs": [],
   "source": [
    "import numpy as np\n",
    "import pandas as pd\n",
    "import matplotlib.pyplot as plt\n",
    "import seaborn as sns\n",
    "from nbresult import ChallengeResult"
   ]
  },
  {
   "cell_type": "markdown",
   "metadata": {},
   "source": [
    "## Data collection\n",
    "\n",
    "📝 **Load the `movie_popularity.csv` dataset from the provided this [URL](https://wagon-public-datasets.s3.amazonaws.com/certification_france_2021_q2/tv_movies_popularity.csv)**\n",
    "- First, check and remove the rows that may be complete duplicate from one another (we never know!)\n",
    "- Then, drop the columns that have too much missing values\n",
    "- Finally, drop the few remaining rows that have missing values\n",
    "- Store the result in a `DataFrame` named `data`"
   ]
  },
  {
   "cell_type": "code",
   "execution_count": 24,
   "metadata": {
    "ExecuteTime": {
     "end_time": "2021-06-29T17:29:09.664618Z",
     "start_time": "2021-06-29T17:29:05.328223Z"
    },
    "slideshow": {
     "slide_type": "notes"
    },
    "tags": [
     "challengify"
    ]
   },
   "outputs": [
    {
     "data": {
      "text/html": [
       "<div>\n",
       "<style scoped>\n",
       "    .dataframe tbody tr th:only-of-type {\n",
       "        vertical-align: middle;\n",
       "    }\n",
       "\n",
       "    .dataframe tbody tr th {\n",
       "        vertical-align: top;\n",
       "    }\n",
       "\n",
       "    .dataframe thead th {\n",
       "        text-align: right;\n",
       "    }\n",
       "</style>\n",
       "<table border=\"1\" class=\"dataframe\">\n",
       "  <thead>\n",
       "    <tr style=\"text-align: right;\">\n",
       "      <th></th>\n",
       "      <th>original_title</th>\n",
       "      <th>title</th>\n",
       "      <th>popularity</th>\n",
       "      <th>release_date</th>\n",
       "      <th>duration_min</th>\n",
       "      <th>description</th>\n",
       "      <th>budget</th>\n",
       "      <th>revenue</th>\n",
       "      <th>original_language</th>\n",
       "      <th>status</th>\n",
       "      <th>number_of_awards_won</th>\n",
       "      <th>number_of_nominations</th>\n",
       "      <th>has_collection</th>\n",
       "      <th>all_genres</th>\n",
       "      <th>top_countries</th>\n",
       "      <th>number_of_top_productions</th>\n",
       "      <th>available_in_english</th>\n",
       "    </tr>\n",
       "  </thead>\n",
       "  <tbody>\n",
       "    <tr>\n",
       "      <th>0</th>\n",
       "      <td>Hot Tub Time Machine 2</td>\n",
       "      <td>Hot Tub Time Machine 2</td>\n",
       "      <td>6.575393</td>\n",
       "      <td>2015-02-20</td>\n",
       "      <td>93.0</td>\n",
       "      <td>When Lou's shot in the groin, Nick and Jacob d...</td>\n",
       "      <td>14000000</td>\n",
       "      <td>12314651.0</td>\n",
       "      <td>en</td>\n",
       "      <td>Released</td>\n",
       "      <td>0</td>\n",
       "      <td>2</td>\n",
       "      <td>1</td>\n",
       "      <td>Comedy</td>\n",
       "      <td>United States of America</td>\n",
       "      <td>3</td>\n",
       "      <td>True</td>\n",
       "    </tr>\n",
       "    <tr>\n",
       "      <th>1</th>\n",
       "      <td>The Princess Diaries 2: Royal Engagement</td>\n",
       "      <td>The Princess Diaries 2: Royal Engagement</td>\n",
       "      <td>8.248895</td>\n",
       "      <td>2004-08-06</td>\n",
       "      <td>113.0</td>\n",
       "      <td>Now settled in Genovia, Princess Mia faces a n...</td>\n",
       "      <td>40000000</td>\n",
       "      <td>95149435.0</td>\n",
       "      <td>en</td>\n",
       "      <td>Released</td>\n",
       "      <td>1</td>\n",
       "      <td>2</td>\n",
       "      <td>1</td>\n",
       "      <td>Comedy, Drama, Family, Romance</td>\n",
       "      <td>United States of America</td>\n",
       "      <td>1</td>\n",
       "      <td>True</td>\n",
       "    </tr>\n",
       "    <tr>\n",
       "      <th>2</th>\n",
       "      <td>Whiplash</td>\n",
       "      <td>Whiplash</td>\n",
       "      <td>64.299990</td>\n",
       "      <td>2014-10-10</td>\n",
       "      <td>105.0</td>\n",
       "      <td>A promising young drummer enrolls at a cut-thr...</td>\n",
       "      <td>3300000</td>\n",
       "      <td>13092000.0</td>\n",
       "      <td>en</td>\n",
       "      <td>Released</td>\n",
       "      <td>97</td>\n",
       "      <td>145</td>\n",
       "      <td>0</td>\n",
       "      <td>Drama</td>\n",
       "      <td>United States of America</td>\n",
       "      <td>0</td>\n",
       "      <td>True</td>\n",
       "    </tr>\n",
       "    <tr>\n",
       "      <th>3</th>\n",
       "      <td>Kahaani</td>\n",
       "      <td>Kahaani</td>\n",
       "      <td>3.174936</td>\n",
       "      <td>2012-03-09</td>\n",
       "      <td>122.0</td>\n",
       "      <td>A pregnant woman's search for her missing husb...</td>\n",
       "      <td>1200000</td>\n",
       "      <td>16000000.0</td>\n",
       "      <td>hi</td>\n",
       "      <td>Released</td>\n",
       "      <td>23</td>\n",
       "      <td>18</td>\n",
       "      <td>0</td>\n",
       "      <td>Drama, Thriller</td>\n",
       "      <td>India</td>\n",
       "      <td>0</td>\n",
       "      <td>True</td>\n",
       "    </tr>\n",
       "    <tr>\n",
       "      <th>4</th>\n",
       "      <td>The Possession</td>\n",
       "      <td>The Possession</td>\n",
       "      <td>7.286477</td>\n",
       "      <td>2012-08-30</td>\n",
       "      <td>92.0</td>\n",
       "      <td>A young girl buys an antique box at a yard sal...</td>\n",
       "      <td>14000000</td>\n",
       "      <td>85446075.0</td>\n",
       "      <td>en</td>\n",
       "      <td>Released</td>\n",
       "      <td>0</td>\n",
       "      <td>6</td>\n",
       "      <td>0</td>\n",
       "      <td>Horror, Thriller</td>\n",
       "      <td>Canada, United States of America</td>\n",
       "      <td>0</td>\n",
       "      <td>True</td>\n",
       "    </tr>\n",
       "    <tr>\n",
       "      <th>...</th>\n",
       "      <td>...</td>\n",
       "      <td>...</td>\n",
       "      <td>...</td>\n",
       "      <td>...</td>\n",
       "      <td>...</td>\n",
       "      <td>...</td>\n",
       "      <td>...</td>\n",
       "      <td>...</td>\n",
       "      <td>...</td>\n",
       "      <td>...</td>\n",
       "      <td>...</td>\n",
       "      <td>...</td>\n",
       "      <td>...</td>\n",
       "      <td>...</td>\n",
       "      <td>...</td>\n",
       "      <td>...</td>\n",
       "      <td>...</td>\n",
       "    </tr>\n",
       "    <tr>\n",
       "      <th>6859</th>\n",
       "      <td>The King and I</td>\n",
       "      <td>The King and I</td>\n",
       "      <td>1.466461</td>\n",
       "      <td>1999-03-19</td>\n",
       "      <td>87.0</td>\n",
       "      <td>Traveling to the exotic kingdom of Siam, Engli...</td>\n",
       "      <td>25000000</td>\n",
       "      <td>12000000.0</td>\n",
       "      <td>en</td>\n",
       "      <td>Released</td>\n",
       "      <td>0</td>\n",
       "      <td>6</td>\n",
       "      <td>0</td>\n",
       "      <td>Animation, Drama, Family</td>\n",
       "      <td>United States of America</td>\n",
       "      <td>1</td>\n",
       "      <td>True</td>\n",
       "    </tr>\n",
       "    <tr>\n",
       "      <th>6860</th>\n",
       "      <td>Little Black Book</td>\n",
       "      <td>Little Black Book</td>\n",
       "      <td>5.093704</td>\n",
       "      <td>2004-08-06</td>\n",
       "      <td>111.0</td>\n",
       "      <td>A woman snoops through her boyfriend's palm pi...</td>\n",
       "      <td>35000000</td>\n",
       "      <td>22034832.0</td>\n",
       "      <td>en</td>\n",
       "      <td>Released</td>\n",
       "      <td>0</td>\n",
       "      <td>1</td>\n",
       "      <td>0</td>\n",
       "      <td>Comedy, Drama, Romance</td>\n",
       "      <td>United States of America</td>\n",
       "      <td>0</td>\n",
       "      <td>True</td>\n",
       "    </tr>\n",
       "    <tr>\n",
       "      <th>6861</th>\n",
       "      <td>The English Teacher</td>\n",
       "      <td>The English Teacher</td>\n",
       "      <td>9.673017</td>\n",
       "      <td>2013-05-16</td>\n",
       "      <td>91.0</td>\n",
       "      <td>An English teacher's life is disrupted when a ...</td>\n",
       "      <td>0</td>\n",
       "      <td>NaN</td>\n",
       "      <td>en</td>\n",
       "      <td>Released</td>\n",
       "      <td>0</td>\n",
       "      <td>0</td>\n",
       "      <td>0</td>\n",
       "      <td>Comedy, Drama</td>\n",
       "      <td>United States of America</td>\n",
       "      <td>0</td>\n",
       "      <td>True</td>\n",
       "    </tr>\n",
       "    <tr>\n",
       "      <th>6862</th>\n",
       "      <td>2001: A Space Odyssey</td>\n",
       "      <td>2001: A Space Odyssey</td>\n",
       "      <td>22.494622</td>\n",
       "      <td>1968-04-10</td>\n",
       "      <td>149.0</td>\n",
       "      <td>After discovering a mysterious artifact buried...</td>\n",
       "      <td>10500000</td>\n",
       "      <td>NaN</td>\n",
       "      <td>en</td>\n",
       "      <td>Released</td>\n",
       "      <td>16</td>\n",
       "      <td>11</td>\n",
       "      <td>1</td>\n",
       "      <td>Adventure, Mystery, Science Fiction</td>\n",
       "      <td>United Kingdom, United States of America</td>\n",
       "      <td>1</td>\n",
       "      <td>True</td>\n",
       "    </tr>\n",
       "    <tr>\n",
       "      <th>6863</th>\n",
       "      <td>Event Horizon</td>\n",
       "      <td>Event Horizon</td>\n",
       "      <td>11.335072</td>\n",
       "      <td>1997-08-15</td>\n",
       "      <td>96.0</td>\n",
       "      <td>A rescue crew investigates a spaceship that di...</td>\n",
       "      <td>60000000</td>\n",
       "      <td>NaN</td>\n",
       "      <td>en</td>\n",
       "      <td>Released</td>\n",
       "      <td>1</td>\n",
       "      <td>2</td>\n",
       "      <td>0</td>\n",
       "      <td>Horror, Mystery, Science Fiction</td>\n",
       "      <td>United Kingdom, United States of America</td>\n",
       "      <td>1</td>\n",
       "      <td>True</td>\n",
       "    </tr>\n",
       "  </tbody>\n",
       "</table>\n",
       "<p>6864 rows × 17 columns</p>\n",
       "</div>"
      ],
      "text/plain": [
       "                                original_title  \\\n",
       "0                       Hot Tub Time Machine 2   \n",
       "1     The Princess Diaries 2: Royal Engagement   \n",
       "2                                     Whiplash   \n",
       "3                                      Kahaani   \n",
       "4                               The Possession   \n",
       "...                                        ...   \n",
       "6859                            The King and I   \n",
       "6860                         Little Black Book   \n",
       "6861                       The English Teacher   \n",
       "6862                     2001: A Space Odyssey   \n",
       "6863                             Event Horizon   \n",
       "\n",
       "                                         title  popularity release_date  \\\n",
       "0                       Hot Tub Time Machine 2    6.575393   2015-02-20   \n",
       "1     The Princess Diaries 2: Royal Engagement    8.248895   2004-08-06   \n",
       "2                                     Whiplash   64.299990   2014-10-10   \n",
       "3                                      Kahaani    3.174936   2012-03-09   \n",
       "4                               The Possession    7.286477   2012-08-30   \n",
       "...                                        ...         ...          ...   \n",
       "6859                            The King and I    1.466461   1999-03-19   \n",
       "6860                         Little Black Book    5.093704   2004-08-06   \n",
       "6861                       The English Teacher    9.673017   2013-05-16   \n",
       "6862                     2001: A Space Odyssey   22.494622   1968-04-10   \n",
       "6863                             Event Horizon   11.335072   1997-08-15   \n",
       "\n",
       "      duration_min                                        description  \\\n",
       "0             93.0  When Lou's shot in the groin, Nick and Jacob d...   \n",
       "1            113.0  Now settled in Genovia, Princess Mia faces a n...   \n",
       "2            105.0  A promising young drummer enrolls at a cut-thr...   \n",
       "3            122.0  A pregnant woman's search for her missing husb...   \n",
       "4             92.0  A young girl buys an antique box at a yard sal...   \n",
       "...            ...                                                ...   \n",
       "6859          87.0  Traveling to the exotic kingdom of Siam, Engli...   \n",
       "6860         111.0  A woman snoops through her boyfriend's palm pi...   \n",
       "6861          91.0  An English teacher's life is disrupted when a ...   \n",
       "6862         149.0  After discovering a mysterious artifact buried...   \n",
       "6863          96.0  A rescue crew investigates a spaceship that di...   \n",
       "\n",
       "        budget     revenue original_language    status  number_of_awards_won  \\\n",
       "0     14000000  12314651.0                en  Released                     0   \n",
       "1     40000000  95149435.0                en  Released                     1   \n",
       "2      3300000  13092000.0                en  Released                    97   \n",
       "3      1200000  16000000.0                hi  Released                    23   \n",
       "4     14000000  85446075.0                en  Released                     0   \n",
       "...        ...         ...               ...       ...                   ...   \n",
       "6859  25000000  12000000.0                en  Released                     0   \n",
       "6860  35000000  22034832.0                en  Released                     0   \n",
       "6861         0         NaN                en  Released                     0   \n",
       "6862  10500000         NaN                en  Released                    16   \n",
       "6863  60000000         NaN                en  Released                     1   \n",
       "\n",
       "      number_of_nominations  has_collection  \\\n",
       "0                         2               1   \n",
       "1                         2               1   \n",
       "2                       145               0   \n",
       "3                        18               0   \n",
       "4                         6               0   \n",
       "...                     ...             ...   \n",
       "6859                      6               0   \n",
       "6860                      1               0   \n",
       "6861                      0               0   \n",
       "6862                     11               1   \n",
       "6863                      2               0   \n",
       "\n",
       "                               all_genres  \\\n",
       "0                                  Comedy   \n",
       "1          Comedy, Drama, Family, Romance   \n",
       "2                                   Drama   \n",
       "3                         Drama, Thriller   \n",
       "4                        Horror, Thriller   \n",
       "...                                   ...   \n",
       "6859             Animation, Drama, Family   \n",
       "6860               Comedy, Drama, Romance   \n",
       "6861                        Comedy, Drama   \n",
       "6862  Adventure, Mystery, Science Fiction   \n",
       "6863     Horror, Mystery, Science Fiction   \n",
       "\n",
       "                                 top_countries  number_of_top_productions  \\\n",
       "0                     United States of America                          3   \n",
       "1                     United States of America                          1   \n",
       "2                     United States of America                          0   \n",
       "3                                        India                          0   \n",
       "4             Canada, United States of America                          0   \n",
       "...                                        ...                        ...   \n",
       "6859                  United States of America                          1   \n",
       "6860                  United States of America                          0   \n",
       "6861                  United States of America                          0   \n",
       "6862  United Kingdom, United States of America                          1   \n",
       "6863  United Kingdom, United States of America                          1   \n",
       "\n",
       "      available_in_english  \n",
       "0                     True  \n",
       "1                     True  \n",
       "2                     True  \n",
       "3                     True  \n",
       "4                     True  \n",
       "...                    ...  \n",
       "6859                  True  \n",
       "6860                  True  \n",
       "6861                  True  \n",
       "6862                  True  \n",
       "6863                  True  \n",
       "\n",
       "[6864 rows x 17 columns]"
      ]
     },
     "execution_count": 24,
     "metadata": {},
     "output_type": "execute_result"
    }
   ],
   "source": [
    "import pandas as pd\n",
    "\n",
    "data = pd.read_csv ('https://wagon-public-datasets.s3.amazonaws.com/certification_france_2021_q2/tv_movies_popularity.csv')\n",
    "data"
   ]
  },
  {
   "cell_type": "code",
   "execution_count": 25,
   "metadata": {},
   "outputs": [
    {
     "data": {
      "image/png": "[encoded data removed]",
      "text/plain": [
       "<Figure size 1728x720 with 3 Axes>"
      ]
     },
     "metadata": {
      "needs_background": "light"
     },
     "output_type": "display_data"
    },
    {
     "data": {
      "image/png": "[encoded data removed]",
      "text/plain": [
       "<Figure size 1800x720 with 2 Axes>"
      ]
     },
     "metadata": {
      "needs_background": "light"
     },
     "output_type": "display_data"
    }
   ],
   "source": [
    "#Voir les variables manquantes \n",
    "import missingno as msno\n",
    "msno.bar(data)\n",
    "msno.matrix(data)\n",
    "plt.show()"
   ]
  },
  {
   "cell_type": "code",
   "execution_count": 27,
   "metadata": {},
   "outputs": [],
   "source": [
    "#drop columns with missing values \n",
    "data= data.drop(['revenue'], axis=1)"
   ]
  },
  {
   "cell_type": "code",
   "execution_count": 20,
   "metadata": {},
   "outputs": [
    {
     "data": {
      "text/html": [
       "<div>\n",
       "<style scoped>\n",
       "    .dataframe tbody tr th:only-of-type {\n",
       "        vertical-align: middle;\n",
       "    }\n",
       "\n",
       "    .dataframe tbody tr th {\n",
       "        vertical-align: top;\n",
       "    }\n",
       "\n",
       "    .dataframe thead th {\n",
       "        text-align: right;\n",
       "    }\n",
       "</style>\n",
       "<table border=\"1\" class=\"dataframe\">\n",
       "  <thead>\n",
       "    <tr style=\"text-align: right;\">\n",
       "      <th></th>\n",
       "      <th>original_title</th>\n",
       "      <th>title</th>\n",
       "      <th>popularity</th>\n",
       "      <th>release_date</th>\n",
       "      <th>duration_min</th>\n",
       "      <th>description</th>\n",
       "      <th>budget</th>\n",
       "      <th>revenue</th>\n",
       "      <th>original_language</th>\n",
       "      <th>status</th>\n",
       "      <th>number_of_awards_won</th>\n",
       "      <th>number_of_nominations</th>\n",
       "      <th>has_collection</th>\n",
       "      <th>all_genres</th>\n",
       "      <th>top_countries</th>\n",
       "      <th>number_of_top_productions</th>\n",
       "      <th>available_in_english</th>\n",
       "    </tr>\n",
       "  </thead>\n",
       "  <tbody>\n",
       "    <tr>\n",
       "      <th>0</th>\n",
       "      <td>Hot Tub Time Machine 2</td>\n",
       "      <td>Hot Tub Time Machine 2</td>\n",
       "      <td>6.575393</td>\n",
       "      <td>2015-02-20</td>\n",
       "      <td>93.0</td>\n",
       "      <td>When Lou's shot in the groin, Nick and Jacob d...</td>\n",
       "      <td>14000000</td>\n",
       "      <td>12314651.0</td>\n",
       "      <td>en</td>\n",
       "      <td>Released</td>\n",
       "      <td>0</td>\n",
       "      <td>2</td>\n",
       "      <td>1</td>\n",
       "      <td>Comedy</td>\n",
       "      <td>United States of America</td>\n",
       "      <td>3</td>\n",
       "      <td>True</td>\n",
       "    </tr>\n",
       "    <tr>\n",
       "      <th>1</th>\n",
       "      <td>The Princess Diaries 2: Royal Engagement</td>\n",
       "      <td>The Princess Diaries 2: Royal Engagement</td>\n",
       "      <td>8.248895</td>\n",
       "      <td>2004-08-06</td>\n",
       "      <td>113.0</td>\n",
       "      <td>Now settled in Genovia, Princess Mia faces a n...</td>\n",
       "      <td>40000000</td>\n",
       "      <td>95149435.0</td>\n",
       "      <td>en</td>\n",
       "      <td>Released</td>\n",
       "      <td>1</td>\n",
       "      <td>2</td>\n",
       "      <td>1</td>\n",
       "      <td>Comedy, Drama, Family, Romance</td>\n",
       "      <td>United States of America</td>\n",
       "      <td>1</td>\n",
       "      <td>True</td>\n",
       "    </tr>\n",
       "    <tr>\n",
       "      <th>2</th>\n",
       "      <td>Whiplash</td>\n",
       "      <td>Whiplash</td>\n",
       "      <td>64.299990</td>\n",
       "      <td>2014-10-10</td>\n",
       "      <td>105.0</td>\n",
       "      <td>A promising young drummer enrolls at a cut-thr...</td>\n",
       "      <td>3300000</td>\n",
       "      <td>13092000.0</td>\n",
       "      <td>en</td>\n",
       "      <td>Released</td>\n",
       "      <td>97</td>\n",
       "      <td>145</td>\n",
       "      <td>0</td>\n",
       "      <td>Drama</td>\n",
       "      <td>United States of America</td>\n",
       "      <td>0</td>\n",
       "      <td>True</td>\n",
       "    </tr>\n",
       "    <tr>\n",
       "      <th>3</th>\n",
       "      <td>Kahaani</td>\n",
       "      <td>Kahaani</td>\n",
       "      <td>3.174936</td>\n",
       "      <td>2012-03-09</td>\n",
       "      <td>122.0</td>\n",
       "      <td>A pregnant woman's search for her missing husb...</td>\n",
       "      <td>1200000</td>\n",
       "      <td>16000000.0</td>\n",
       "      <td>hi</td>\n",
       "      <td>Released</td>\n",
       "      <td>23</td>\n",
       "      <td>18</td>\n",
       "      <td>0</td>\n",
       "      <td>Drama, Thriller</td>\n",
       "      <td>India</td>\n",
       "      <td>0</td>\n",
       "      <td>True</td>\n",
       "    </tr>\n",
       "    <tr>\n",
       "      <th>4</th>\n",
       "      <td>The Possession</td>\n",
       "      <td>The Possession</td>\n",
       "      <td>7.286477</td>\n",
       "      <td>2012-08-30</td>\n",
       "      <td>92.0</td>\n",
       "      <td>A young girl buys an antique box at a yard sal...</td>\n",
       "      <td>14000000</td>\n",
       "      <td>85446075.0</td>\n",
       "      <td>en</td>\n",
       "      <td>Released</td>\n",
       "      <td>0</td>\n",
       "      <td>6</td>\n",
       "      <td>0</td>\n",
       "      <td>Horror, Thriller</td>\n",
       "      <td>Canada, United States of America</td>\n",
       "      <td>0</td>\n",
       "      <td>True</td>\n",
       "    </tr>\n",
       "    <tr>\n",
       "      <th>...</th>\n",
       "      <td>...</td>\n",
       "      <td>...</td>\n",
       "      <td>...</td>\n",
       "      <td>...</td>\n",
       "      <td>...</td>\n",
       "      <td>...</td>\n",
       "      <td>...</td>\n",
       "      <td>...</td>\n",
       "      <td>...</td>\n",
       "      <td>...</td>\n",
       "      <td>...</td>\n",
       "      <td>...</td>\n",
       "      <td>...</td>\n",
       "      <td>...</td>\n",
       "      <td>...</td>\n",
       "      <td>...</td>\n",
       "      <td>...</td>\n",
       "    </tr>\n",
       "    <tr>\n",
       "      <th>6459</th>\n",
       "      <td>Original Sin</td>\n",
       "      <td>Original Sin</td>\n",
       "      <td>9.970359</td>\n",
       "      <td>2001-08-03</td>\n",
       "      <td>118.0</td>\n",
       "      <td>A woman, along with her lover, plans to con a ...</td>\n",
       "      <td>42000000</td>\n",
       "      <td>NaN</td>\n",
       "      <td>en</td>\n",
       "      <td>Released</td>\n",
       "      <td>0</td>\n",
       "      <td>2</td>\n",
       "      <td>0</td>\n",
       "      <td>Thriller</td>\n",
       "      <td>France, United States of America</td>\n",
       "      <td>1</td>\n",
       "      <td>True</td>\n",
       "    </tr>\n",
       "    <tr>\n",
       "      <th>6460</th>\n",
       "      <td>Without a Paddle</td>\n",
       "      <td>Without a Paddle</td>\n",
       "      <td>6.046516</td>\n",
       "      <td>2004-08-20</td>\n",
       "      <td>95.0</td>\n",
       "      <td>After their friend dies, three men decide to f...</td>\n",
       "      <td>19000000</td>\n",
       "      <td>NaN</td>\n",
       "      <td>en</td>\n",
       "      <td>Released</td>\n",
       "      <td>0</td>\n",
       "      <td>0</td>\n",
       "      <td>1</td>\n",
       "      <td>Action, Adventure, Comedy, Thriller</td>\n",
       "      <td>United States of America</td>\n",
       "      <td>1</td>\n",
       "      <td>True</td>\n",
       "    </tr>\n",
       "    <tr>\n",
       "      <th>6461</th>\n",
       "      <td>The Verdict</td>\n",
       "      <td>The Verdict</td>\n",
       "      <td>9.596883</td>\n",
       "      <td>1982-12-08</td>\n",
       "      <td>129.0</td>\n",
       "      <td>A lawyer sees the chance to salvage his career...</td>\n",
       "      <td>16000000</td>\n",
       "      <td>NaN</td>\n",
       "      <td>en</td>\n",
       "      <td>Released</td>\n",
       "      <td>3</td>\n",
       "      <td>14</td>\n",
       "      <td>0</td>\n",
       "      <td>Drama</td>\n",
       "      <td>United States of America</td>\n",
       "      <td>1</td>\n",
       "      <td>True</td>\n",
       "    </tr>\n",
       "    <tr>\n",
       "      <th>6462</th>\n",
       "      <td>It Follows</td>\n",
       "      <td>It Follows</td>\n",
       "      <td>20.359336</td>\n",
       "      <td>2015-02-04</td>\n",
       "      <td>100.0</td>\n",
       "      <td>A young woman is followed by an unknown supern...</td>\n",
       "      <td>2000000</td>\n",
       "      <td>NaN</td>\n",
       "      <td>en</td>\n",
       "      <td>Released</td>\n",
       "      <td>25</td>\n",
       "      <td>43</td>\n",
       "      <td>0</td>\n",
       "      <td>Horror, Thriller</td>\n",
       "      <td>United States of America</td>\n",
       "      <td>0</td>\n",
       "      <td>True</td>\n",
       "    </tr>\n",
       "    <tr>\n",
       "      <th>6463</th>\n",
       "      <td>Vivre sa vie: film en douze tableaux</td>\n",
       "      <td>Vivre Sa Vie</td>\n",
       "      <td>11.305910</td>\n",
       "      <td>1962-09-20</td>\n",
       "      <td>85.0</td>\n",
       "      <td>Twelve episodic tales in the life of a Parisia...</td>\n",
       "      <td>64000</td>\n",
       "      <td>NaN</td>\n",
       "      <td>fr</td>\n",
       "      <td>Released</td>\n",
       "      <td>3</td>\n",
       "      <td>1</td>\n",
       "      <td>0</td>\n",
       "      <td>Drama</td>\n",
       "      <td>France</td>\n",
       "      <td>0</td>\n",
       "      <td>False</td>\n",
       "    </tr>\n",
       "  </tbody>\n",
       "</table>\n",
       "<p>6464 rows × 17 columns</p>\n",
       "</div>"
      ],
      "text/plain": [
       "                                original_title  \\\n",
       "0                       Hot Tub Time Machine 2   \n",
       "1     The Princess Diaries 2: Royal Engagement   \n",
       "2                                     Whiplash   \n",
       "3                                      Kahaani   \n",
       "4                               The Possession   \n",
       "...                                        ...   \n",
       "6459                              Original Sin   \n",
       "6460                          Without a Paddle   \n",
       "6461                               The Verdict   \n",
       "6462                                It Follows   \n",
       "6463      Vivre sa vie: film en douze tableaux   \n",
       "\n",
       "                                         title  popularity release_date  \\\n",
       "0                       Hot Tub Time Machine 2    6.575393   2015-02-20   \n",
       "1     The Princess Diaries 2: Royal Engagement    8.248895   2004-08-06   \n",
       "2                                     Whiplash   64.299990   2014-10-10   \n",
       "3                                      Kahaani    3.174936   2012-03-09   \n",
       "4                               The Possession    7.286477   2012-08-30   \n",
       "...                                        ...         ...          ...   \n",
       "6459                              Original Sin    9.970359   2001-08-03   \n",
       "6460                          Without a Paddle    6.046516   2004-08-20   \n",
       "6461                               The Verdict    9.596883   1982-12-08   \n",
       "6462                                It Follows   20.359336   2015-02-04   \n",
       "6463                              Vivre Sa Vie   11.305910   1962-09-20   \n",
       "\n",
       "      duration_min                                        description  \\\n",
       "0             93.0  When Lou's shot in the groin, Nick and Jacob d...   \n",
       "1            113.0  Now settled in Genovia, Princess Mia faces a n...   \n",
       "2            105.0  A promising young drummer enrolls at a cut-thr...   \n",
       "3            122.0  A pregnant woman's search for her missing husb...   \n",
       "4             92.0  A young girl buys an antique box at a yard sal...   \n",
       "...            ...                                                ...   \n",
       "6459         118.0  A woman, along with her lover, plans to con a ...   \n",
       "6460          95.0  After their friend dies, three men decide to f...   \n",
       "6461         129.0  A lawyer sees the chance to salvage his career...   \n",
       "6462         100.0  A young woman is followed by an unknown supern...   \n",
       "6463          85.0  Twelve episodic tales in the life of a Parisia...   \n",
       "\n",
       "        budget     revenue original_language    status  number_of_awards_won  \\\n",
       "0     14000000  12314651.0                en  Released                     0   \n",
       "1     40000000  95149435.0                en  Released                     1   \n",
       "2      3300000  13092000.0                en  Released                    97   \n",
       "3      1200000  16000000.0                hi  Released                    23   \n",
       "4     14000000  85446075.0                en  Released                     0   \n",
       "...        ...         ...               ...       ...                   ...   \n",
       "6459  42000000         NaN                en  Released                     0   \n",
       "6460  19000000         NaN                en  Released                     0   \n",
       "6461  16000000         NaN                en  Released                     3   \n",
       "6462   2000000         NaN                en  Released                    25   \n",
       "6463     64000         NaN                fr  Released                     3   \n",
       "\n",
       "      number_of_nominations  has_collection  \\\n",
       "0                         2               1   \n",
       "1                         2               1   \n",
       "2                       145               0   \n",
       "3                        18               0   \n",
       "4                         6               0   \n",
       "...                     ...             ...   \n",
       "6459                      2               0   \n",
       "6460                      0               1   \n",
       "6461                     14               0   \n",
       "6462                     43               0   \n",
       "6463                      1               0   \n",
       "\n",
       "                               all_genres                     top_countries  \\\n",
       "0                                  Comedy          United States of America   \n",
       "1          Comedy, Drama, Family, Romance          United States of America   \n",
       "2                                   Drama          United States of America   \n",
       "3                         Drama, Thriller                             India   \n",
       "4                        Horror, Thriller  Canada, United States of America   \n",
       "...                                   ...                               ...   \n",
       "6459                             Thriller  France, United States of America   \n",
       "6460  Action, Adventure, Comedy, Thriller          United States of America   \n",
       "6461                                Drama          United States of America   \n",
       "6462                     Horror, Thriller          United States of America   \n",
       "6463                                Drama                            France   \n",
       "\n",
       "      number_of_top_productions  available_in_english  \n",
       "0                             3                  True  \n",
       "1                             1                  True  \n",
       "2                             0                  True  \n",
       "3                             0                  True  \n",
       "4                             0                  True  \n",
       "...                         ...                   ...  \n",
       "6459                          1                  True  \n",
       "6460                          1                  True  \n",
       "6461                          1                  True  \n",
       "6462                          0                  True  \n",
       "6463                          0                 False  \n",
       "\n",
       "[6464 rows x 17 columns]"
      ]
     },
     "execution_count": 20,
     "metadata": {},
     "output_type": "execute_result"
    }
   ],
   "source": [
    "data"
   ]
  },
  {
   "cell_type": "code",
   "execution_count": 29,
   "metadata": {},
   "outputs": [
    {
     "data": {
      "image/png": "[encoded data removed]",
      "text/plain": [
       "<Figure size 1728x720 with 3 Axes>"
      ]
     },
     "metadata": {
      "needs_background": "light"
     },
     "output_type": "display_data"
    },
    {
     "data": {
      "image/png": "[encoded data removed]",
      "text/plain": [
       "<Figure size 1800x720 with 2 Axes>"
      ]
     },
     "metadata": {
      "needs_background": "light"
     },
     "output_type": "display_data"
    }
   ],
   "source": [
    "import missingno as msno\n",
    "msno.bar(data)\n",
    "msno.matrix(data)\n",
    "plt.show()"
   ]
  },
  {
   "cell_type": "code",
   "execution_count": 30,
   "metadata": {},
   "outputs": [],
   "source": []
  },
  {
   "cell_type": "code",
   "execution_count": 32,
   "metadata": {},
   "outputs": [],
   "source": [
    "def getDuplicateColumns(data):\n",
    "    '''\n",
    "    Get a list of duplicate columns.\n",
    "    It will iterate over all the columns in dataframe and find the columns whose contents are duplicate.\n",
    "    :param df: Dataframe object\n",
    "    :return: List of columns whose contents are duplicates.\n",
    "    '''\n",
    "    duplicateColumnNames = set()\n",
    "    # Iterate over all the columns in dataframe\n",
    "    for x in range(data.shape[1]):\n",
    "        # Select column at xth index.\n",
    "        col = data.iloc[:, x]\n",
    "        # Iterate over all the columns in DataFrame from (x+1)th index till end\n",
    "        for y in range(x + 1, data.shape[1]):\n",
    "            # Select column at yth index.\n",
    "            otherCol = data.iloc[:, y]\n",
    "            # Check if two columns at x 7 y index are equal\n",
    "            if col.equals(otherCol):\n",
    "                duplicateColumnNames.add(data.columns.values[y])\n",
    "    return list(duplicateColumnNames)"
   ]
  },
  {
   "cell_type": "code",
   "execution_count": 34,
   "metadata": {},
   "outputs": [
    {
     "data": {
      "text/plain": [
       "0       False\n",
       "1       False\n",
       "2       False\n",
       "3       False\n",
       "4       False\n",
       "        ...  \n",
       "6459    False\n",
       "6460    False\n",
       "6461    False\n",
       "6462    False\n",
       "6463    False\n",
       "Length: 5867, dtype: bool"
      ]
     },
     "execution_count": 34,
     "metadata": {},
     "output_type": "execute_result"
    }
   ],
   "source": [
    "data.duplicated()"
   ]
  },
  {
   "cell_type": "markdown",
   "metadata": {},
   "source": [
    "### 🧪 Run the following cell to save your results"
   ]
  },
  {
   "cell_type": "code",
   "execution_count": 9,
   "metadata": {
    "ExecuteTime": {
     "end_time": "2021-06-29T17:29:09.754301Z",
     "start_time": "2021-06-29T17:29:09.746171Z"
    }
   },
   "outputs": [],
   "source": [
    "from nbresult import ChallengeResult\n",
    "\n",
    "result = ChallengeResult(\n",
    "    \"data_cleaning\",\n",
    "    columns=data.columns,\n",
    "    cleaning=sum(data.isnull().sum()),\n",
    "    shape=data.shape)\n",
    "result.write()"
   ]
  },
  {
   "cell_type": "markdown",
   "metadata": {},
   "source": [
    "## Baseline model"
   ]
  },
  {
   "cell_type": "markdown",
   "metadata": {},
   "source": [
    "### The metric"
   ]
  },
  {
   "cell_type": "markdown",
   "metadata": {},
   "source": [
    "📝 **We want to predict `popularity`: Start by plotting a histogram of the target to visualize it**"
   ]
  },
  {
   "cell_type": "markdown",
   "metadata": {},
   "source": [
    "📝 **Which sklearn's scoring [metric](https://scikit-learn.org/stable/modules/model_evaluation.html) should we use if we want it to:**\n",
    "\n",
    "- Be better when greater (i.e. metric_good_model > metric_bad_model)\n",
    "- Penalize **more** an error between 10 and 20 compared with an error between 110 and 120\n",
    "- Said otherwise, what matter should be the **relative error ratio**, more than the absolute error difference\n",
    "\n",
    "Hint: the histogram plotted above should give you some intuition about it\n",
    "\n",
    "👉 Store its exact [sklearn scoring name](https://scikit-learn.org/stable/modules/model_evaluation.html) as `string` in the variable `scoring` below.\n",
    "\n",
    "🚨 You must use this metric for the rest of the challenge"
   ]
  },
  {
   "cell_type": "code",
   "execution_count": 35,
   "metadata": {},
   "outputs": [],
   "source": [
    "import matplotlib.pyplot as plt "
   ]
  },
  {
   "cell_type": "code",
   "execution_count": null,
   "metadata": {},
   "outputs": [],
   "source": []
  },
  {
   "cell_type": "code",
   "execution_count": null,
   "metadata": {},
   "outputs": [],
   "source": []
  },
  {
   "cell_type": "markdown",
   "metadata": {},
   "source": [
    "<details>\n",
    "    <summary>💡 Hint</summary>\n",
    "It is around here!\n",
    "<img src=\"scores.jpg\" width=200 height=400 />\n",
    "</details>"
   ]
  },
  {
   "cell_type": "markdown",
   "metadata": {},
   "source": [
    "### X,y"
   ]
  },
  {
   "cell_type": "markdown",
   "metadata": {},
   "source": [
    "**📝 Define `X` as the features Dataframe (keep all features) and `y` as the target Series.**"
   ]
  },
  {
   "cell_type": "code",
   "execution_count": 13,
   "metadata": {
    "ExecuteTime": {
     "end_time": "2021-06-29T17:29:13.054580Z",
     "start_time": "2021-06-29T17:29:13.049865Z"
    },
    "tags": [
     "challengify"
    ]
   },
   "outputs": [],
   "source": [
    "# YOUR CODE HERE"
   ]
  },
  {
   "cell_type": "markdown",
   "metadata": {},
   "source": [
    "### Basic pipeline"
   ]
  },
  {
   "cell_type": "markdown",
   "metadata": {},
   "source": [
    "📝 **Check unique values per features**"
   ]
  },
  {
   "cell_type": "code",
   "execution_count": 15,
   "metadata": {
    "ExecuteTime": {
     "end_time": "2021-06-29T17:29:13.074836Z",
     "start_time": "2021-06-29T17:29:13.062527Z"
    },
    "tags": [
     "challengify"
    ]
   },
   "outputs": [],
   "source": [
    "# YOUR CODE HERE"
   ]
  },
  {
   "cell_type": "markdown",
   "metadata": {},
   "source": [
    "In this baseline, let's forget about the columns below that are difficult to process"
   ]
  },
  {
   "cell_type": "code",
   "execution_count": 17,
   "metadata": {
    "ExecuteTime": {
     "end_time": "2021-06-29T17:29:13.102327Z",
     "start_time": "2021-06-29T17:29:13.099066Z"
    }
   },
   "outputs": [],
   "source": [
    "text = ['description', 'original_title', 'title']\n",
    "dates = ['release_date'] "
   ]
  },
  {
   "cell_type": "markdown",
   "metadata": {},
   "source": [
    "We will simply scale the numerical features and one-hot-encode the categorical ones remaining\n",
    "\n",
    "📝 **Prepare 2 `list`s of features names as `str`**:\n",
    "- `numerical` which contains **only** numerical features\n",
    "- `categorical` which contains **only** categorical features (exept text and dates above)"
   ]
  },
  {
   "cell_type": "code",
   "execution_count": 18,
   "metadata": {
    "ExecuteTime": {
     "end_time": "2021-06-29T17:29:13.107916Z",
     "start_time": "2021-06-29T17:29:13.104876Z"
    },
    "tags": [
     "challengify"
    ]
   },
   "outputs": [],
   "source": [
    "# YOUR CODE HERE"
   ]
  },
  {
   "cell_type": "markdown",
   "metadata": {},
   "source": [
    "### Pipelining\n",
    "\n",
    "You are going to build a basic pipeline made of a basic preprocessing and a trees-based model of your choice."
   ]
  },
  {
   "cell_type": "markdown",
   "metadata": {},
   "source": [
    "#### Preprocessing pipeline\n",
    "\n",
    "**📝 Create a basic preprocessing pipeline for the 2 types of features above:**\n",
    "- It should scale the `numerical` features\n",
    "- one-hot-encode the `categorical` and `boolean` features\n",
    "- drop the others\n",
    "- Store your pipeline in a `basic_preprocessing` variable"
   ]
  },
  {
   "cell_type": "code",
   "execution_count": 19,
   "metadata": {
    "ExecuteTime": {
     "end_time": "2021-06-29T17:29:13.475427Z",
     "start_time": "2021-06-29T17:29:13.109926Z"
    }
   },
   "outputs": [],
   "source": [
    "# Execute this cell to enable a nice display for your pipelines\n",
    "from sklearn import set_config; set_config(display='diagram')"
   ]
  },
  {
   "cell_type": "code",
   "execution_count": 20,
   "metadata": {
    "ExecuteTime": {
     "end_time": "2021-06-29T17:29:13.497003Z",
     "start_time": "2021-06-29T17:29:13.477748Z"
    },
    "tags": [
     "challengify"
    ]
   },
   "outputs": [],
   "source": [
    "# YOUR CODE HERE"
   ]
  },
  {
   "cell_type": "markdown",
   "metadata": {},
   "source": [
    "**📝 Encode the features and store the result in the variable `X_basic_preprocessing`.**"
   ]
  },
  {
   "cell_type": "code",
   "execution_count": 21,
   "metadata": {
    "ExecuteTime": {
     "end_time": "2021-06-29T17:29:13.523938Z",
     "start_time": "2021-06-29T17:29:13.499042Z"
    },
    "tags": [
     "challengify"
    ]
   },
   "outputs": [],
   "source": [
    "# YOUR CODE HERE"
   ]
  },
  {
   "cell_type": "markdown",
   "metadata": {},
   "source": [
    "**❓ How many features has been generated by the preprocessing? What do you think about this number?**"
   ]
  },
  {
   "cell_type": "markdown",
   "metadata": {
    "tags": [
     "challengify"
    ]
   },
   "source": [
    "> YOUR ANSWER HERE"
   ]
  },
  {
   "cell_type": "markdown",
   "metadata": {},
   "source": [
    "#### Modeling pipeline\n",
    "\n",
    "Let's add a model to our pipe. With so many features one-hot-encoded, we **need a model which can act as a feature selector**\n",
    "\n",
    "👉 A linear model regularized with L1 penalty is a good starting point.\n",
    "\n",
    "\n",
    "**📝 Create a `basic_pipeline` which encapsulate the `basic_preprocessing` pipeline + a linear model with a L1 penalty**\n",
    "\n",
    "- store the resulting pipeline as `basic_pipeline`\n",
    "- don't fine-tune it\n",
    "\n",
    "\n",
    "<details>\n",
    "    <summary>Hints</summary>\n",
    "\n",
    "Choose your model from the list [here](https://scikit-learn.org/stable/modules/classes.html#module-sklearn.linear_model)\n",
    "\n",
    "</details>"
   ]
  },
  {
   "cell_type": "code",
   "execution_count": 23,
   "metadata": {
    "ExecuteTime": {
     "end_time": "2021-06-29T17:29:13.614429Z",
     "start_time": "2021-06-29T17:29:13.609607Z"
    },
    "tags": [
     "challengify"
    ]
   },
   "outputs": [],
   "source": [
    "# YOUR CODE HERE"
   ]
  },
  {
   "cell_type": "markdown",
   "metadata": {},
   "source": [
    "### Cross-validated baseline\n",
    "\n",
    "**📝 Perform a cross-validated evaluation of your baseline model using the metric you defined above. Store the results of this evaluation as an `array` of floating scores in the `basic_scores` variable.**"
   ]
  },
  {
   "cell_type": "code",
   "execution_count": 25,
   "metadata": {
    "ExecuteTime": {
     "end_time": "2021-06-29T17:29:13.834847Z",
     "start_time": "2021-06-29T17:29:13.634994Z"
    },
    "scrolled": false,
    "tags": [
     "challengify"
    ]
   },
   "outputs": [],
   "source": [
    "# YOUR CODE HERE"
   ]
  },
  {
   "cell_type": "markdown",
   "metadata": {},
   "source": [
    "### 🧪 Save your results\n",
    "\n",
    "Run the following cell to save your results"
   ]
  },
  {
   "cell_type": "code",
   "execution_count": 27,
   "metadata": {
    "ExecuteTime": {
     "end_time": "2021-06-29T17:29:13.848670Z",
     "start_time": "2021-06-29T17:29:13.844198Z"
    }
   },
   "outputs": [],
   "source": [
    "ChallengeResult(\n",
    "    'baseline',\n",
    "    metric=scoring,\n",
    "    features=[categorical,numerical],\n",
    "    preproc=basic_preprocessing,\n",
    "    preproc_shape=X_basic_preprocessing.shape,\n",
    "    pipe=basic_pipeline,\n",
    "    scores=basic_scores\n",
    ").write()"
   ]
  },
  {
   "cell_type": "markdown",
   "metadata": {},
   "source": [
    "## Feature engineering"
   ]
  },
  {
   "cell_type": "markdown",
   "metadata": {},
   "source": [
    "### Time Features\n",
    "\n",
    "\n",
    "👉 Let's try to improve performance using the feature `release_date`, and especially its `month` and `year`.\n",
    "\n",
    "ℹ️ If you want to skip this section, you can move directly to the next one: _Advanced categorical features_."
   ]
  },
  {
   "cell_type": "markdown",
   "metadata": {},
   "source": [
    "**📝 Complete the custom transformer `TimeFeaturesExtractor` below**\n",
    "\n",
    "Running\n",
    "```python\n",
    "TimeFeaturesExtractor().fit_transform(X[['release_date']])\n",
    "``` \n",
    "should return something like\n",
    "\n",
    "|    |   month |   year |\n",
    "|---:|--------:|-------:|\n",
    "|  0 |       2 |   2015 |\n",
    "|  1 |       8 |   2004 |\n",
    "|  2 |      10 |   2014 |\n",
    "|  3 |       3 |   2012 |\n",
    "|  4 |       8 |   2012 |\n"
   ]
  },
  {
   "cell_type": "code",
   "execution_count": 29,
   "metadata": {
    "ExecuteTime": {
     "end_time": "2021-06-29T17:29:13.859554Z",
     "start_time": "2021-06-29T17:29:13.855428Z"
    }
   },
   "outputs": [],
   "source": [
    "from sklearn.base import BaseEstimator, TransformerMixin\n",
    "\n",
    "class TimeFeaturesExtractor(BaseEstimator, TransformerMixin):\n",
    "    \"\"\"Extract the 2 time features from a date\"\"\"\n",
    "    \n",
    "    def fit(self, X, y=None):\n",
    "        return self\n",
    "    \n",
    "    def transform(self, X, y=None):\n",
    "        \"\"\"\n",
    "        Params:\n",
    "        X: DataFrame\n",
    "        y: Series\n",
    "        \n",
    "        Returns a DataFrame with 2 columns containing the time features as integers extracted from the release_date.\n",
    "        \"\"\"\n",
    "        pass  # YOUR CODE HERE"
   ]
  },
  {
   "cell_type": "code",
   "execution_count": 30,
   "metadata": {
    "ExecuteTime": {
     "end_time": "2021-06-29T17:29:13.877264Z",
     "start_time": "2021-06-29T17:29:13.862231Z"
    }
   },
   "outputs": [],
   "source": [
    "# Try your transformer and save your new features here\n",
    "X_time_features = TimeFeaturesExtractor().fit_transform(X[['release_date']])\n",
    "X_time_features.head()"
   ]
  },
  {
   "cell_type": "markdown",
   "metadata": {},
   "source": [
    "We still have 2 problems to solve\n",
    "- `month` is cyclical: 12 should be a close to 1 as to 11, right? \n",
    "- `year` is not scaled\n",
    "\n",
    "**📝 Build a final custom transformer `CyclicalEncoder` so that**\n",
    "\n",
    "Running\n",
    "```python\n",
    "CyclicalEncoder().fit_transform(X_time_features)\n",
    "``` \n",
    "should return something like this\n",
    "\n",
    "|    |    month_cos |   month_sin |      year |\n",
    "|---:|-------------:|------------:|----------:|\n",
    "|  0 |  0.5         |    0.866025 | 0.0466039 |\n",
    "|  1 | -0.5         |   -0.866025 | 0.0411502 |\n",
    "|  2 |  0.5         |   -0.866025 | 0.0461081 |\n",
    "|  3 |  6.12323e-17 |    1        | 0.0451165 |\n",
    "|  4 | -0.5         |   -0.866025 | 0.0451165 |\n",
    "\n",
    "With the cyclical encoding is done as below\n",
    "- `month_cos = 2 * math.pi / 12 * X[['month']] `\n",
    "- `month_sin = 2 * math.pi / 12 * X[['month']] `\n",
    "\n",
    "And the `year` begin min-max scaled"
   ]
  },
  {
   "cell_type": "code",
   "execution_count": 31,
   "metadata": {
    "ExecuteTime": {
     "end_time": "2021-06-29T17:29:13.884690Z",
     "start_time": "2021-06-29T17:29:13.879274Z"
    }
   },
   "outputs": [],
   "source": [
    "from sklearn.base import BaseEstimator, TransformerMixin\n",
    "import math\n",
    "\n",
    "class CyclicalEncoder(BaseEstimator, TransformerMixin):\n",
    "    \"\"\"\n",
    "    Encode a cyclical feature\n",
    "    \"\"\"\n",
    "    \n",
    "    def __init__(self):\n",
    "        pass\n",
    "\n",
    "    def fit(self, X, y=None):\n",
    "        \"\"\"\n",
    "        Compute here what you need for the transform phase and store it as instance variable\n",
    "        \"\"\"\n",
    "        pass  # YOUR CODE HERE\n",
    "\n",
    "    def transform(self, X, y=None):\n",
    "        \"\"\"\n",
    "        Compute and returns the final DataFrame\n",
    "        \"\"\"\n",
    "        pass  # YOUR CODE HERE"
   ]
  },
  {
   "cell_type": "code",
   "execution_count": 32,
   "metadata": {
    "ExecuteTime": {
     "end_time": "2021-06-29T17:29:13.899004Z",
     "start_time": "2021-06-29T17:29:13.886894Z"
    }
   },
   "outputs": [],
   "source": [
    "# Try your transformer and save your new features here\n",
    "X_time_cyclical = CyclicalEncoder().fit_transform(X_time_features)\n",
    "X_time_cyclical.head()"
   ]
  },
  {
   "cell_type": "code",
   "execution_count": 33,
   "metadata": {
    "ExecuteTime": {
     "end_time": "2021-06-29T17:29:14.052971Z",
     "start_time": "2021-06-29T17:29:13.900696Z"
    }
   },
   "outputs": [],
   "source": [
    "# Check that this form a circle with 12 points\n",
    "plt.scatter(X_time_cyclical['month_cos'],\n",
    "            X_time_cyclical['month_sin'])\n",
    "plt.xlabel(\"month_cos\"); plt.ylabel(\"month_sin\");"
   ]
  },
  {
   "cell_type": "markdown",
   "metadata": {},
   "source": [
    "**📝 Enhance your `basic_pipeline` with a new preprocessing including both `TimeFeaturesExtractor` and `CyclicalFeatureExtractor`:**\n",
    "\n",
    "- Just use `TimeFeatureExtractor` if you haven't had time to do the `Cyclical` one\n",
    "- Store this new pipeline as `time_pipeline`\n",
    "- Keep same estimator for now"
   ]
  },
  {
   "cell_type": "code",
   "execution_count": 34,
   "metadata": {
    "ExecuteTime": {
     "end_time": "2021-06-29T17:29:14.077345Z",
     "start_time": "2021-06-29T17:29:14.054521Z"
    },
    "tags": [
     "challengify"
    ]
   },
   "outputs": [],
   "source": [
    "# YOUR CODE HERE"
   ]
  },
  {
   "cell_type": "markdown",
   "metadata": {},
   "source": [
    "### Advanced categorical encoder to reduce the number of features\n",
    "\n",
    "ℹ️ Most of it has already been coded for you and it shouldn't take long. Still if you want to skip it and move to the next section: _Model Tuning_"
   ]
  },
  {
   "cell_type": "markdown",
   "metadata": {},
   "source": [
    "👉 We need to reduce the number of features to one-hot-encode, which arise from the high cardinality of `all_genres` and `top_countries`"
   ]
  },
  {
   "cell_type": "code",
   "execution_count": 37,
   "metadata": {
    "ExecuteTime": {
     "end_time": "2021-06-29T17:29:14.191964Z",
     "start_time": "2021-06-29T17:29:14.184044Z"
    }
   },
   "outputs": [],
   "source": [
    "X[['all_genres', 'top_countries']].nunique()"
   ]
  },
  {
   "cell_type": "markdown",
   "metadata": {},
   "source": [
    "👇 Both share a common pattern: there can be more than 1 country and more than 1 genre per movie."
   ]
  },
  {
   "cell_type": "code",
   "execution_count": 38,
   "metadata": {
    "ExecuteTime": {
     "end_time": "2021-06-29T17:29:14.201275Z",
     "start_time": "2021-06-29T17:29:14.193459Z"
    }
   },
   "outputs": [],
   "source": [
    "X[['all_genres', 'top_countries']].tail()"
   ]
  },
  {
   "cell_type": "markdown",
   "metadata": {},
   "source": [
    "👉 Run the cell below where we have coded for you a custom transformer `CustomGenreAndCountryEncoder` which: \n",
    "- Select the 10 most frequent genres and the 5 most frequent countries\n",
    "- Encode `all_genres` into 10 One Hot Encoded features\n",
    "- Encode `top_countries` into 5 One Hot Encoded features"
   ]
  },
  {
   "cell_type": "code",
   "execution_count": 39,
   "metadata": {
    "ExecuteTime": {
     "end_time": "2021-06-29T17:29:14.210953Z",
     "start_time": "2021-06-29T17:29:14.202791Z"
    }
   },
   "outputs": [],
   "source": [
    "from collections import Counter\n",
    "from sklearn.base import BaseEstimator, TransformerMixin\n",
    "\n",
    "class CustomGenreAndCountryEncoder(BaseEstimator, TransformerMixin):\n",
    "    \"\"\"\n",
    "    Encoding the all_genres and top_companies features which are multi-categorical :\n",
    "    a movie has several possible genres and countries of productions!\n",
    "    \"\"\"\n",
    "\n",
    "    def __init__(self):\n",
    "        pass\n",
    "\n",
    "    def fit(self, X, y=None):\n",
    "        \"\"\"\n",
    "        compute top genres and top countries of productions from all_genres and top_countries features\n",
    "        \"\"\"\n",
    "\n",
    "        # compute top 10 genres       \n",
    "        list_of_genres = list(X['all_genres'].apply(lambda x: [i.strip() for i in x.split(\",\")] if x != [''] else []).values)\n",
    "        top_genres = [m[0] for m in Counter([i for j in list_of_genres for i in j]).most_common(10)]\n",
    "\n",
    "        # save top_genres in dedicated instance variable\n",
    "        self.top_genres = top_genres\n",
    "        \n",
    "         # compute top 5 countries       \n",
    "        list_of_countries = list(X['top_countries'].apply(lambda x: [i.strip() for i in x.split(\",\")] if x != [''] else []).values)\n",
    "        top_countries = [m[0] for m in Counter([i for j in list_of_countries for i in j]).most_common(5)]\n",
    "\n",
    "        # save top_countries in dedicated instance variable\n",
    "        self.top_countries = top_countries\n",
    "\n",
    "        return self\n",
    "\n",
    "    def transform(self, X, y=None):\n",
    "        \"\"\"\n",
    "        encoding genre and country\n",
    "        \"\"\"\n",
    "        X_new = X.copy()\n",
    "        for genre in self.top_genres:\n",
    "            X_new['genre_' + genre] = X_new['all_genres'].apply(lambda x: 1 if genre in x else 0)\n",
    "        X_new = X_new.drop(columns=[\"all_genres\"])\n",
    "        for country in self.top_countries:\n",
    "            X_new['country_' + country] = X_new['top_countries'].apply(lambda x: 1 if country in x else 0)\n",
    "        X_new = X_new.drop(columns=[\"top_countries\"])\n",
    "        return X_new"
   ]
  },
  {
   "cell_type": "code",
   "execution_count": 40,
   "metadata": {
    "ExecuteTime": {
     "end_time": "2021-06-29T17:29:14.289418Z",
     "start_time": "2021-06-29T17:29:14.212506Z"
    }
   },
   "outputs": [],
   "source": [
    "# Check it out\n",
    "X_custom = CustomGenreAndCountryEncoder().fit_transform(X[['all_genres', 'top_countries']])\n",
    "print(X_custom.shape)\n",
    "X_custom.head()"
   ]
  },
  {
   "cell_type": "markdown",
   "metadata": {},
   "source": [
    "**📝 Compute your `final_pipeline` by integrating all these transformers** (or all those you have coded)\n",
    "\n",
    "- `CustomGenreAndCountryEncoder`\n",
    "- `TimeFeaturesExtractor`\n",
    "- `CyclicalFeatureExtractor`"
   ]
  },
  {
   "cell_type": "code",
   "execution_count": 41,
   "metadata": {
    "ExecuteTime": {
     "end_time": "2021-06-29T17:29:14.316693Z",
     "start_time": "2021-06-29T17:29:14.291225Z"
    },
    "tags": [
     "challengify"
    ]
   },
   "outputs": [],
   "source": [
    "# YOUR CODE HERE"
   ]
  },
  {
   "cell_type": "markdown",
   "metadata": {},
   "source": [
    "📝 **Compute and store its cross validated scores as `final_scores` array of floats**\n",
    "\n",
    "- It does not necessarily improve the performance before we can try-out doing model tuning\n",
    "- However, with a now limited number of features, we will be able to train more complex models in next section (ensemble...)"
   ]
  },
  {
   "cell_type": "markdown",
   "metadata": {},
   "source": [
    "### 🧪 Save your result\n",
    "\n",
    "Run the following cell to save your results."
   ]
  },
  {
   "cell_type": "code",
   "execution_count": 45,
   "metadata": {
    "ExecuteTime": {
     "end_time": "2021-06-29T17:29:15.204479Z",
     "start_time": "2021-06-29T17:29:15.198198Z"
    }
   },
   "outputs": [],
   "source": [
    "ChallengeResult(\n",
    "    'feature_engineering',\n",
    "    X_time_features=X_time_features,\n",
    "    X_time_cyclical= X_time_cyclical,\n",
    "    time_pipeline=time_pipeline,\n",
    "    final_pipeline=final_pipeline,\n",
    "    final_scores=final_scores\n",
    ").write()\n",
    "\n",
    "# Hint: Try restarting your notebook if you obtain an error about saving a custom encoder"
   ]
  },
  {
   "cell_type": "markdown",
   "metadata": {},
   "source": [
    "## Model tuning"
   ]
  },
  {
   "cell_type": "markdown",
   "metadata": {},
   "source": [
    "### Random Forest"
   ]
  },
  {
   "cell_type": "markdown",
   "metadata": {},
   "source": [
    "📝 **Change the estimator of your `final_pipeline` by a Random Forest and checkout your new cross-validated score**"
   ]
  },
  {
   "cell_type": "code",
   "execution_count": 46,
   "metadata": {
    "ExecuteTime": {
     "end_time": "2021-06-29T17:29:19.391364Z",
     "start_time": "2021-06-29T17:29:15.206532Z"
    },
    "tags": [
     "challengify"
    ]
   },
   "outputs": [],
   "source": [
    "# YOUR CODE HERE"
   ]
  },
  {
   "cell_type": "markdown",
   "metadata": {},
   "source": [
    "### Best hyperparameters quest\n",
    "\n",
    "\n",
    "\n",
    "**📝 Fine tune your model to try to get the best performance in the minimum amount of time!**\n",
    "\n",
    "- Store the result of your search inside the `search` variable.\n",
    "- Store your 5 cross-validated scores inside `best_scores` array of floats"
   ]
  },
  {
   "cell_type": "code",
   "execution_count": 47,
   "metadata": {
    "ExecuteTime": {
     "end_time": "2021-06-29T17:29:19.431573Z",
     "start_time": "2021-06-29T17:29:19.394891Z"
    },
    "tags": [
     "challengify"
    ]
   },
   "outputs": [],
   "source": [
    "# YOUR CODE HERE"
   ]
  },
  {
   "cell_type": "markdown",
   "metadata": {},
   "source": [
    "**📝 Re-train your best pipeline on the whole (X,y) dataset**\n",
    "- Store the trained pipeline inside the `best_pipeline` variable"
   ]
  },
  {
   "cell_type": "code",
   "execution_count": 53,
   "metadata": {
    "ExecuteTime": {
     "end_time": "2021-06-29T17:30:18.200730Z",
     "start_time": "2021-06-29T17:30:14.992877Z"
    },
    "tags": [
     "challengify"
    ]
   },
   "outputs": [],
   "source": [
    "# YOUR CODE HERE"
   ]
  },
  {
   "cell_type": "markdown",
   "metadata": {},
   "source": [
    "### Prediction\n",
    "\n",
    "Now you have your model tuned with the best hyperparameters, you are ready for a prediction.\n",
    "\n",
    "Here is a famous TV show released in 2017:\n",
    "\n",
    "```python\n",
    "dict(\n",
    "        original_title=str(\"La Casa de Papel\"),\n",
    "        title=str(\"Money Heist\"), \n",
    "        release_date= pd.to_datetime([\"2017-05-02\"]), \n",
    "        duration_min=float(50),\n",
    "        description=str(\"An unusual group of robbers attempt to carry out the most perfect robbery\"), \n",
    "        budget=float(3_000_000), \n",
    "        original_language =str(\"es\"), \n",
    "        status=str(\"Released\"),\n",
    "        number_of_awards_won =int(2), \n",
    "        number_of_nominations=int(5), \n",
    "        has_collection=int(1),\n",
    "        all_genres=str(\"Action, Crime, Mystery\"), \n",
    "        top_countries=str(\"Spain, France, United States of America\"), \n",
    "        number_of_top_productions=int('1'),\n",
    "        available_in_english=bool('True') \n",
    ")\n",
    "```\n",
    "\n",
    "**📝 Compute the predicted popularity of this TV show and store it into the `popularity` variable as a floating number.**"
   ]
  },
  {
   "cell_type": "code",
   "execution_count": 54,
   "metadata": {
    "ExecuteTime": {
     "end_time": "2021-06-29T17:30:18.209145Z",
     "start_time": "2021-06-29T17:30:18.202809Z"
    },
    "tags": [
     "challengify"
    ]
   },
   "outputs": [],
   "source": [
    "# YOUR CODE HERE"
   ]
  },
  {
   "cell_type": "code",
   "execution_count": 55,
   "metadata": {
    "ExecuteTime": {
     "end_time": "2021-06-29T17:30:18.293267Z",
     "start_time": "2021-06-29T17:30:18.211979Z"
    },
    "tags": [
     "challengify"
    ]
   },
   "outputs": [],
   "source": [
    "# YOUR CODE HERE"
   ]
  },
  {
   "cell_type": "markdown",
   "metadata": {},
   "source": [
    "### 🧪 Save your results\n",
    "\n",
    "Run the following cell to save your results."
   ]
  },
  {
   "cell_type": "code",
   "execution_count": 56,
   "metadata": {
    "ExecuteTime": {
     "end_time": "2021-06-29T17:30:18.492068Z",
     "start_time": "2021-06-29T17:30:18.294946Z"
    }
   },
   "outputs": [],
   "source": [
    "ChallengeResult(\n",
    "    \"model_tuning\",\n",
    "    search=search,\n",
    "    best_pipeline=best_pipeline,\n",
    "    best_scores = best_scores,\n",
    "    popularity=popularity\n",
    ").write()"
   ]
  },
  {
   "cell_type": "markdown",
   "metadata": {},
   "source": [
    "## API \n",
    "\n",
    "Time to put a pipeline in production!\n",
    "\n",
    "👉 Go to https://github.com/lewagon/data-certification-api and follow instructions\n",
    "\n",
    "**This final part is independent from the above notebook**"
   ]
  }
 ],
 "metadata": {
  "interpreter": {
   "hash": "572b4e543617d03e90ecaf525e08695da1ff29b13594f787e33b342cf572f792"
  },
  "kernelspec": {
   "display_name": "Python 3",
   "language": "python",
   "name": "python3"
  },
  "language_info": {
   "codemirror_mode": {
    "name": "ipython",
    "version": 3
   },
   "file_extension": ".py",
   "mimetype": "text/x-python",
   "name": "python",
   "nbconvert_exporter": "python",
   "pygments_lexer": "ipython3",
   "version": "3.8.6"
  },
  "toc": {
   "base_numbering": 1,
   "nav_menu": {},
   "number_sections": true,
   "sideBar": true,
   "skip_h1_title": true,
   "title_cell": "Table of Contents",
   "title_sidebar": "Contents",
   "toc_cell": false,
   "toc_position": {
    "height": "calc(100% - 180px)",
    "left": "10px",
    "top": "150px",
    "width": "242px"
   },
   "toc_section_display": true,
   "toc_window_display": true
  },
  "varInspector": {
   "cols": {
    "lenName": 16,
    "lenType": 16,
    "lenVar": 40
   },
   "kernels_config": {
    "python": {
     "delete_cmd_postfix": "",
     "delete_cmd_prefix": "del ",
     "library": "var_list.py",
     "varRefreshCmd": "print(var_dic_list())"
    },
    "r": {
     "delete_cmd_postfix": ") ",
     "delete_cmd_prefix": "rm(",
     "library": "var_list.r",
     "varRefreshCmd": "cat(var_dic_list()) "
    }
   },
   "types_to_exclude": [
    "module",
    "function",
    "builtin_function_or_method",
    "instance",
    "_Feature"
   ],
   "window_display": false
  }
 },
 "nbformat": 4,
 "nbformat_minor": 4
}
